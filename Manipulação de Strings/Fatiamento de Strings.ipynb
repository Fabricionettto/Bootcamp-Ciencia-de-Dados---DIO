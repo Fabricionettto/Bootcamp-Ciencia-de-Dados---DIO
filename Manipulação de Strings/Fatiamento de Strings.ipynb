{
 "cells": [
  {
   "cell_type": "code",
   "execution_count": 13,
   "metadata": {},
   "outputs": [
    {
     "name": "stdout",
     "output_type": "stream",
     "text": [
      "F\n",
      "Fabricio \n",
      "eto dos Santos\n",
      "eto do\n",
      "eod\n",
      "Fabricio Neto dos Santos\n",
      "sotnaS sod oteN oicirbaF\n"
     ]
    }
   ],
   "source": [
    "nome = \"Fabricio Neto dos Santos\"\n",
    "\n",
    "print(nome[0])\n",
    "\n",
    "print(nome[:9])\n",
    "\n",
    "print(nome[10:])\n",
    "\n",
    "print(nome[10:16])\n",
    "\n",
    "print(nome[10:16:2])\n",
    "\n",
    "print(nome[:])\n",
    "\n",
    "print(nome[::-1])\n",
    "\n"
   ]
  },
  {
   "cell_type": "code",
   "execution_count": null,
   "metadata": {},
   "outputs": [],
   "source": []
  }
 ],
 "metadata": {
  "kernelspec": {
   "display_name": "Python 3.10.5 64-bit",
   "language": "python",
   "name": "python3"
  },
  "language_info": {
   "codemirror_mode": {
    "name": "ipython",
    "version": 3
   },
   "file_extension": ".py",
   "mimetype": "text/x-python",
   "name": "python",
   "nbconvert_exporter": "python",
   "pygments_lexer": "ipython3",
   "version": "3.10.5"
  },
  "orig_nbformat": 4,
  "vscode": {
   "interpreter": {
    "hash": "369f2c481f4da34e4445cda3fffd2e751bd1c4d706f27375911949ba6bb62e1c"
   }
  }
 },
 "nbformat": 4,
 "nbformat_minor": 2
}
