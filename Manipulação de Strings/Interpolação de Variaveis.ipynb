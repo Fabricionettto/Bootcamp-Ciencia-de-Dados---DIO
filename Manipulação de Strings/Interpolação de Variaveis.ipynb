{
 "cells": [
  {
   "cell_type": "code",
   "execution_count": 1,
   "metadata": {},
   "outputs": [
    {
     "name": "stdout",
     "output_type": "stream",
     "text": [
      " Olá, me chamo Fabricio. Eu tenho 47 anos de idade, trabalho como Cientista de Dados e estou matriculado no curso de Python.\n"
     ]
    }
   ],
   "source": [
    "nome = \"Fabricio\"\n",
    "idade = 47\n",
    "profissao = \"Cientista de Dados\"\n",
    "Linguagem = \"Python\"\n",
    "\n",
    "print(\" Olá, me chamo %s. Eu tenho %d anos de idade, trabalho como %s e estou matriculado no curso de %s.\" % (\n",
    "  nome, idade, profissao, Linguagem))"
   ]
  },
  {
   "cell_type": "code",
   "execution_count": 6,
   "metadata": {},
   "outputs": [
    {
     "name": "stdout",
     "output_type": "stream",
     "text": [
      " Olá, me chamo Fabricio. Eu tenho 47 anos de idade, trabalho como Cientista de Dados e estou matriculado no curso de Python.\n"
     ]
    }
   ],
   "source": [
    "nome = \"Fabricio\"\n",
    "idade = 47\n",
    "profissao = \"Cientista de Dados\"\n",
    "Linguagem = \"Python\"\n",
    "\n",
    "print(\" Olá, me chamo {}. Eu tenho {} anos de idade, trabalho como {} e estou matriculado no curso de {}.\"\n",
    "  .format(nome, idade, profissao, Linguagem))"
   ]
  },
  {
   "cell_type": "code",
   "execution_count": 7,
   "metadata": {},
   "outputs": [
    {
     "name": "stdout",
     "output_type": "stream",
     "text": [
      " Olá, me chamo Fabricio. Eu tenho 47 anos de idade, trabalho como Cientista de Dados e estou matriculado no curso de Python.\n"
     ]
    }
   ],
   "source": [
    "nome = \"Fabricio\"\n",
    "idade = 47\n",
    "profissao = \"Cientista de Dados\"\n",
    "Linguagem = \"Python\"\n",
    "\n",
    "print(\" Olá, me chamo {3}. Eu tenho {2} anos de idade, trabalho como {1} e estou matriculado no curso de {0}.\"\n",
    "  .format(Linguagem, profissao, idade, nome))"
   ]
  },
  {
   "cell_type": "code",
   "execution_count": 18,
   "metadata": {},
   "outputs": [
    {
     "name": "stdout",
     "output_type": "stream",
     "text": [
      "Olá, me chamo Fabricio. Eu tenho 47 anos de idade, trabalho como Cientista de Dados e estou matriculado no curso de Python.\n"
     ]
    }
   ],
   "source": [
    "print(f\"Olá, me chamo {nome}. Eu tenho {idade} anos de idade, trabalho como {profissao} e estou matriculado no curso de {Linguagem}.\")"
   ]
  },
  {
   "cell_type": "code",
   "execution_count": null,
   "metadata": {},
   "outputs": [],
   "source": []
  },
  {
   "cell_type": "code",
   "execution_count": null,
   "metadata": {},
   "outputs": [],
   "source": []
  },
  {
   "cell_type": "code",
   "execution_count": null,
   "metadata": {},
   "outputs": [],
   "source": []
  }
 ],
 "metadata": {
  "kernelspec": {
   "display_name": "Python 3.10.5 64-bit",
   "language": "python",
   "name": "python3"
  },
  "language_info": {
   "codemirror_mode": {
    "name": "ipython",
    "version": 3
   },
   "file_extension": ".py",
   "mimetype": "text/x-python",
   "name": "python",
   "nbconvert_exporter": "python",
   "pygments_lexer": "ipython3",
   "version": "3.10.5"
  },
  "orig_nbformat": 4,
  "vscode": {
   "interpreter": {
    "hash": "369f2c481f4da34e4445cda3fffd2e751bd1c4d706f27375911949ba6bb62e1c"
   }
  }
 },
 "nbformat": 4,
 "nbformat_minor": 2
}
