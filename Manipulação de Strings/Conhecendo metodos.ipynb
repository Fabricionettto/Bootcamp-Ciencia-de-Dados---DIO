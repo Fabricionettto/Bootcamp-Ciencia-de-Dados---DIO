{
 "cells": [
  {
   "cell_type": "code",
   "execution_count": 1,
   "metadata": {},
   "outputs": [
    {
     "name": "stdout",
     "output_type": "stream",
     "text": [
      " PYTHON \n",
      " python \n",
      " Python \n"
     ]
    }
   ],
   "source": [
    "curso = \" pYtHon \"\n",
    "\n",
    "print(curso.upper())\n",
    "\n",
    "print(curso.lower())\n",
    "\n",
    "print(curso.title())\n",
    "\n"
   ]
  },
  {
   "cell_type": "code",
   "execution_count": 2,
   "metadata": {},
   "outputs": [
    {
     "name": "stdout",
     "output_type": "stream",
     "text": [
      "Python\n",
      "Python \n",
      " Python\n"
     ]
    }
   ],
   "source": [
    "curso = \" Python \"\n",
    "\n",
    "print(curso.strip())\n",
    "\n",
    "print(curso.lstrip())\n",
    "\n",
    "print(curso.rstrip())"
   ]
  },
  {
   "cell_type": "code",
   "execution_count": 4,
   "metadata": {},
   "outputs": [
    {
     "name": "stdout",
     "output_type": "stream",
     "text": [
      "##Python##\n"
     ]
    }
   ],
   "source": [
    "curso = \"Python\"\n",
    "\n",
    "print (curso.center(10,\"#\"))"
   ]
  },
  {
   "cell_type": "code",
   "execution_count": 5,
   "metadata": {},
   "outputs": [
    {
     "name": "stdout",
     "output_type": "stream",
     "text": [
      "P.y.t.h.o.n\n"
     ]
    }
   ],
   "source": [
    "print(\".\".join(curso))"
   ]
  },
  {
   "cell_type": "code",
   "execution_count": 6,
   "metadata": {},
   "outputs": [
    {
     "name": "stdout",
     "output_type": "stream",
     "text": [
      "FABRICIO\n",
      "fabricio\n",
      "Fabricio\n"
     ]
    }
   ],
   "source": [
    "nome = \"Fabricio\"\n",
    "\n",
    "print(nome.upper())\n",
    "\n",
    "print(nome.lower())\n",
    "\n",
    "print(nome.title())"
   ]
  },
  {
   "cell_type": "code",
   "execution_count": 12,
   "metadata": {},
   "outputs": [
    {
     "name": "stdout",
     "output_type": "stream",
     "text": [
      "Olá Mundo! .\n",
      "Olá Mundo!   \n",
      "   Olá Mundo!\n"
     ]
    }
   ],
   "source": [
    "Texto = \"   Olá Mundo!   \"\n",
    "\n",
    "print(Texto.strip(),'.')\n",
    "\n",
    "print(Texto.lstrip())\n",
    "\n",
    "print(Texto.rstrip())"
   ]
  },
  {
   "cell_type": "code",
   "execution_count": 13,
   "metadata": {},
   "outputs": [
    {
     "name": "stdout",
     "output_type": "stream",
     "text": [
      "###Python###\n",
      "    Python    \n",
      "#######Python#######\n"
     ]
    }
   ],
   "source": [
    "menu = \"Python\"\n",
    "\n",
    "print(\"###\" + menu + \"###\")\n",
    "\n",
    "print(menu.center(14))\n",
    "\n",
    "print(menu.center(20, \"#\"))"
   ]
  },
  {
   "cell_type": "code",
   "execution_count": null,
   "metadata": {},
   "outputs": [],
   "source": []
  }
 ],
 "metadata": {
  "kernelspec": {
   "display_name": "Python 3.10.5 64-bit",
   "language": "python",
   "name": "python3"
  },
  "language_info": {
   "codemirror_mode": {
    "name": "ipython",
    "version": 3
   },
   "file_extension": ".py",
   "mimetype": "text/x-python",
   "name": "python",
   "nbconvert_exporter": "python",
   "pygments_lexer": "ipython3",
   "version": "3.10.5"
  },
  "orig_nbformat": 4,
  "vscode": {
   "interpreter": {
    "hash": "369f2c481f4da34e4445cda3fffd2e751bd1c4d706f27375911949ba6bb62e1c"
   }
  }
 },
 "nbformat": 4,
 "nbformat_minor": 2
}
