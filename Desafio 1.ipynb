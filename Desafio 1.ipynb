{
 "cells": [
  {
   "cell_type": "code",
   "execution_count": null,
   "metadata": {},
   "outputs": [],
   "source": [
    "# DICAS SOBRE PYTHON:\n",
    "# FUNÇÃO input(): Ela recebe como parâmetro uma String que será visível ao usuário, \n",
    "# onde geralmente informa que tipo de informação ele está esperando receber;\n",
    "# FUNÇÃO print(): Ela é a responsável por imprimir os dados e informar os valores no terminal;\n",
    "# MÉTODO split(): permite dividir o conteúdo da variável de acordo com as condições especificadas \n",
    "# em cada parâmetro da função ou com os valores predefinidos por padrão;\n",
    "\n",
    "# Abaixo segue um exemplo de código que você pode ou não utilizar\n",
    "entrada = input().split()\n",
    "\n",
    "distancia = int(entrada[0])\n",
    "diametro1 = int(entrada[1])\n",
    "diametro2 = int(entrada[2])\n",
    "\n",
    "# TODO: Calcule o ICM da comunicação dos Palatír de Sauron e Saruman, com 2 casas decimais no espaço #em branco abaixo:\n",
    "icm = distancia / (diametro1 + diametro2)\n",
    "print(f\"{icm:.2f}\")"
   ]
  },
  {
   "cell_type": "code",
   "execution_count": null,
   "metadata": {},
   "outputs": [],
   "source": []
  },
  {
   "cell_type": "code",
   "execution_count": null,
   "metadata": {},
   "outputs": [],
   "source": []
  }
 ],
 "metadata": {
  "kernelspec": {
   "display_name": "Python 3.10.5 64-bit",
   "language": "python",
   "name": "python3"
  },
  "language_info": {
   "codemirror_mode": {
    "name": "ipython",
    "version": 3
   },
   "file_extension": ".py",
   "mimetype": "text/x-python",
   "name": "python",
   "nbconvert_exporter": "python",
   "pygments_lexer": "ipython3",
   "version": "3.10.5"
  },
  "orig_nbformat": 4,
  "vscode": {
   "interpreter": {
    "hash": "369f2c481f4da34e4445cda3fffd2e751bd1c4d706f27375911949ba6bb62e1c"
   }
  }
 },
 "nbformat": 4,
 "nbformat_minor": 2
}
