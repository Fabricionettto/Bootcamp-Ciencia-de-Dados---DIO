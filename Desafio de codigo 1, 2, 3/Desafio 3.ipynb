{
 "cells": [
  {
   "cell_type": "code",
   "execution_count": null,
   "metadata": {},
   "outputs": [],
   "source": [
    "# DICAS SOBRE PYTHON:\n",
    "# FUNÇÃO input(): Ela recebe como parâmetro uma String que será visível ao usuário, \n",
    "# onde geralmente informa que tipo de informação ele está esperando receber;\n",
    "# FUNÇÃO print(): Ela é a responsável por imprimir os dados e informar os valores no terminal;\n",
    "# MÉTODO split(): permite dividir o conteúdo da variável de acordo com as condições especificadas \n",
    "# em cada parâmetro da função ou com os valores predefinidos por padrão;\n",
    "\n",
    "# Abaixo segue um exemplo de código que você pode ou não utilizar\n",
    "valores = input().split()\n",
    "\n",
    "# TODO:  Calcule quantidade de litros necessária para realizar a viagem e imprima com TRÊS dígitos após o ponto decimal\n",
    "tempo_viagem = int(valores[0])\n",
    "velocidade_media = int(valores[1])\n",
    "\n",
    "gasolina_viagem = tempo_viagem * velocidade_media / 12\n",
    "print(f\"{gasolina_viagem:.3f}\")"
   ]
  }
 ],
 "metadata": {
  "kernelspec": {
   "display_name": "Python 3.10.5 64-bit",
   "language": "python",
   "name": "python3"
  },
  "language_info": {
   "name": "python",
   "version": "3.10.5"
  },
  "orig_nbformat": 4,
  "vscode": {
   "interpreter": {
    "hash": "369f2c481f4da34e4445cda3fffd2e751bd1c4d706f27375911949ba6bb62e1c"
   }
  }
 },
 "nbformat": 4,
 "nbformat_minor": 2
}
