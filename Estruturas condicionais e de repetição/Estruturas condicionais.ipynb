{
 "cells": [
  {
   "cell_type": "code",
   "execution_count": 7,
   "metadata": {},
   "outputs": [
    {
     "name": "stdout",
     "output_type": "stream",
     "text": [
      "Realizando saque!\n"
     ]
    }
   ],
   "source": [
    "from ast import If\n",
    "\n",
    "\n",
    "saldo = 2000\n",
    "saque = float(input(\"informe o valor do saque:\"))\n",
    "\n",
    "if saldo >= saque:\n",
    "    print(\"Realizando saque!\")\n",
    "    \n",
    "if saldo <  saque:\n",
    "    print(\"Saldo insuficiente!\")\n",
    "    \n",
    "    "
   ]
  },
  {
   "cell_type": "code",
   "execution_count": 8,
   "metadata": {},
   "outputs": [],
   "source": [
    "opcao = int(input(\"informe a opção: [1]Sacar \\n[2] Extrato: \"))\n",
    "\n",
    "if opcao == 1:\n",
    "    valor = float(input(\"Informe a quantia para o saque: \"))\n",
    "  \n",
    "elif opcao == 2:\n",
    "    print(\"Exibindo o extrato...\")\n",
    "else :\n",
    "      sys.exit(\"Opçao Invalida\") \n",
    "      \n",
    "    "
   ]
  },
  {
   "cell_type": "code",
   "execution_count": 9,
   "metadata": {},
   "outputs": [
    {
     "name": "stdout",
     "output_type": "stream",
     "text": [
      "Ainda nao pode tirar a CNH.\n",
      "Ainda nao pode tirar a CNH.\n",
      "Pode fazer aulas teoricas, mas não pode fazer aulas praticas.\n"
     ]
    }
   ],
   "source": [
    "MAIOR_IDADE = 18\n",
    "IDADE_ESPECIAL = 17\n",
    "\n",
    "idade = int(input(\"Informe sua idade: \"))\n",
    "\n",
    "if idade >= MAIOR_IDADE:\n",
    "    print(\"Maior Idade, pode tirar CNH.\")\n",
    "    \n",
    "if idade < MAIOR_IDADE:\n",
    "    print(\"Ainda nao pode tirar a CNH.\")\n",
    "    \n",
    "if idade >= MAIOR_IDADE:\n",
    "    print(\"Maior Idade, pode tirar CNH.\")\n",
    "    \n",
    "else: \n",
    "    print(\"Ainda nao pode tirar a CNH.\")\n",
    "    \n",
    "if idade >= MAIOR_IDADE:\n",
    "    print(\"Maior Idade, pode tirar CNH.\");\n",
    "    \n",
    "elif idade == IDADE_ESPECIAL:\n",
    "    print(\"Pode fazer aulas teoricas, mas não pode fazer aulas praticas.\");\n",
    "    \n",
    "else: \n",
    "    print(\"Ainda nao pode tirar a CNH.\");\n"
   ]
  },
  {
   "cell_type": "code",
   "execution_count": null,
   "metadata": {},
   "outputs": [],
   "source": [
    "if conta_normal:\n",
    "    if saldo>= saque:\n",
    "        print(\"Saque realizado com sucesso!\");\n",
    "    elif saque <= (saldo + cheque_especial):\n",
    "        print(\"Saque realizado com uso do cheque especial!\");\n",
    "elif conta_universitaria:\n",
    "    if saldo>= saque:\n",
    "        print(\"Saque realizado com sucesso!\");\n",
    "    else:\n",
    "        print(\"Saldo insuficiente!\");"
   ]
  },
  {
   "cell_type": "code",
   "execution_count": null,
   "metadata": {},
   "outputs": [],
   "source": []
  }
 ],
 "metadata": {
  "kernelspec": {
   "display_name": "Python 3.10.5 64-bit",
   "language": "python",
   "name": "python3"
  },
  "language_info": {
   "codemirror_mode": {
    "name": "ipython",
    "version": 3
   },
   "file_extension": ".py",
   "mimetype": "text/x-python",
   "name": "python",
   "nbconvert_exporter": "python",
   "pygments_lexer": "ipython3",
   "version": "3.10.5"
  },
  "orig_nbformat": 4,
  "vscode": {
   "interpreter": {
    "hash": "369f2c481f4da34e4445cda3fffd2e751bd1c4d706f27375911949ba6bb62e1c"
   }
  }
 },
 "nbformat": 4,
 "nbformat_minor": 2
}
