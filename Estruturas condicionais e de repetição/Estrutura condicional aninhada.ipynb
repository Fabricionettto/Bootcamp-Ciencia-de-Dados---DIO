{
 "cells": [
  {
   "cell_type": "code",
   "execution_count": 8,
   "metadata": {},
   "outputs": [
    {
     "name": "stdout",
     "output_type": "stream",
     "text": [
      "Sistema não reconheceu o sistema de conta, entre em contato com o Gerente.\n"
     ]
    }
   ],
   "source": [
    "conta_normal = False\n",
    "conta_universitaria = False\n",
    "\n",
    "saldo = 2000\n",
    "saque = 1500\n",
    "cheque_especial = 450\n",
    "\n",
    "if conta_normal:\n",
    "    if saldo>= saque:\n",
    "        print(\"Saque realizado com sucesso!\");\n",
    "    elif saque <= (saldo + cheque_especial):\n",
    "        print(\"Saque realizado com uso do cheque especial!\");\n",
    "    else: \n",
    "        print(\"não foi possivel realizar o saque, saldo insuficiente, POBRE!.\");\n",
    "\n",
    "elif conta_universitaria:\n",
    "    if saldo>= saque:\n",
    "        print(\"Saque realizado com sucesso!\");\n",
    "    else:\n",
    "        print(\"Saldo insuficiente!\");\n",
    "else:\n",
    "        print(\"Sistema não reconheceu o sistema de conta, entre em contato com o Gerente.\");"
   ]
  }
 ],
 "metadata": {
  "kernelspec": {
   "display_name": "Python 3.10.5 64-bit",
   "language": "python",
   "name": "python3"
  },
  "language_info": {
   "codemirror_mode": {
    "name": "ipython",
    "version": 3
   },
   "file_extension": ".py",
   "mimetype": "text/x-python",
   "name": "python",
   "nbconvert_exporter": "python",
   "pygments_lexer": "ipython3",
   "version": "3.10.5"
  },
  "orig_nbformat": 4,
  "vscode": {
   "interpreter": {
    "hash": "369f2c481f4da34e4445cda3fffd2e751bd1c4d706f27375911949ba6bb62e1c"
   }
  }
 },
 "nbformat": 4,
 "nbformat_minor": 2
}
