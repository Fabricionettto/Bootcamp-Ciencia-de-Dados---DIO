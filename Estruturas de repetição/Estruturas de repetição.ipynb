{
 "cells": [
  {
   "cell_type": "code",
   "execution_count": null,
   "metadata": {},
   "outputs": [],
   "source": [
    "a = int(input(\"informe um numero inteiro:\"))\n",
    "  print(a)\n",
    "  \n",
    "a += 1\n",
    "print(a)\n",
    "\n",
    "a += 1\n",
    "print(a)\n",
    "\n",
    "repita 2 vezes\n",
    "a += 1\n",
    "print(a)\n",
    "\n"
   ]
  },
  {
   "cell_type": "code",
   "execution_count": null,
   "metadata": {},
   "outputs": [],
   "source": [
    "text = input(\"Informe um texto:\")\n",
    "VOGAIS = \"AEIOU\"\n",
    "\n",
    "for letra in texto:\n",
    "  if letra.upper() in VOGAIS:\n",
    "      print(letra, end=\"\")\n",
    "else:\n",
    "      print()\n",
    "      print(\"Executa no final do laço.\")\n",
    "    "
   ]
  },
  {
   "cell_type": "code",
   "execution_count": 13,
   "metadata": {},
   "outputs": [
    {
     "name": "stdout",
     "output_type": "stream",
     "text": [
      "0\n",
      "16\n",
      "32\n",
      "48\n"
     ]
    }
   ],
   "source": [
    "for numero in range(0, 51, 16):\n",
    "  print (numero)"
   ]
  },
  {
   "cell_type": "code",
   "execution_count": 16,
   "metadata": {},
   "outputs": [
    {
     "name": "stdout",
     "output_type": "stream",
     "text": [
      "Sacando...\n",
      "Exibindo o extrato...\n",
      "Obrigado por usar nosso sistema bancario, até logo!\n"
     ]
    }
   ],
   "source": [
    "opcao = -1\n",
    "while opcao != 0:\n",
    "    opcao = int(input(\"[1] Sacar \\n[2] Extrato \\n[0] sair \\n:\"))\n",
    "    \n",
    "    if opcao == 1:\n",
    "      print(\"Sacando...\")\n",
    "    elif opcao == 2:\n",
    "      print(\"Exibindo o extrato...\")\n",
    "else:\n",
    "      print(\"Obrigado por usar nosso sistema bancario, até logo!\")"
   ]
  },
  {
   "cell_type": "code",
   "execution_count": null,
   "metadata": {},
   "outputs": [],
   "source": []
  },
  {
   "cell_type": "code",
   "execution_count": null,
   "metadata": {},
   "outputs": [],
   "source": []
  }
 ],
 "metadata": {
  "kernelspec": {
   "display_name": "Python 3.10.5 64-bit",
   "language": "python",
   "name": "python3"
  },
  "language_info": {
   "codemirror_mode": {
    "name": "ipython",
    "version": 3
   },
   "file_extension": ".py",
   "mimetype": "text/x-python",
   "name": "python",
   "nbconvert_exporter": "python",
   "pygments_lexer": "ipython3",
   "version": "3.10.5"
  },
  "orig_nbformat": 4,
  "vscode": {
   "interpreter": {
    "hash": "369f2c481f4da34e4445cda3fffd2e751bd1c4d706f27375911949ba6bb62e1c"
   }
  }
 },
 "nbformat": 4,
 "nbformat_minor": 2
}
