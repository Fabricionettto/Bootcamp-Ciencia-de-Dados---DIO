{
 "cells": [
  {
   "cell_type": "code",
   "execution_count": null,
   "metadata": {},
   "outputs": [],
   "source": [
    "opcao = -1\n",
    "\n",
    "while opcao != 0:\n",
    "    numero = int(input(\"Informe o numero:\"))\n",
    "    \n",
    "    if opcao == 10:\n",
    "      break\n",
    "      \n",
    "    print (numero)\n",
    "    \n",
    "for numero in range(100):\n",
    "  \n",
    "  if numero % == 0:\n",
    "    break\n",
    "  \n",
    "  print (numero, end='')\n",
    "    "
   ]
  }
 ],
 "metadata": {
  "kernelspec": {
   "display_name": "Python 3.10.5 64-bit",
   "language": "python",
   "name": "python3"
  },
  "language_info": {
   "codemirror_mode": {
    "name": "ipython",
    "version": 3
   },
   "file_extension": ".py",
   "mimetype": "text/x-python",
   "name": "python",
   "nbconvert_exporter": "python",
   "pygments_lexer": "ipython3",
   "version": "3.10.5"
  },
  "orig_nbformat": 4,
  "vscode": {
   "interpreter": {
    "hash": "369f2c481f4da34e4445cda3fffd2e751bd1c4d706f27375911949ba6bb62e1c"
   }
  }
 },
 "nbformat": 4,
 "nbformat_minor": 2
}
