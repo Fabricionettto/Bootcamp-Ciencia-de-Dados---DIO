{
 "cells": [
  {
   "cell_type": "code",
   "execution_count": null,
   "metadata": {},
   "outputs": [],
   "source": [
    "# DICAS SOBRE PYTHON:\n",
    "# FUNÇÃO input(): Ela recebe como parâmetro uma String que será visível ao usuário, \n",
    "# onde geralmente informa que tipo de informação ele está esperando receber;\n",
    "# FUNÇÃO print(): Ela é a responsável por imprimir os dados e informar os valores no terminal;\n",
    "# MÉTODO split(): permite dividir o conteúdo da variável de acordo com as condições especificadas \n",
    "# em cada parâmetro da função ou com os valores predefinidos por padrão;\n",
    "\n",
    "# Abaixo segue um exemplo de código que você pode ou não utilizar\n",
    "valores = input().split() \n",
    "\n",
    "# TODO:  Calcule a média de cachorros quentes consumidas por participante e imprima o valor com DUAS casas decimais.\n",
    "total_hot_dogs = int(valores[0])\n",
    "total_participants = int(valores[1])\n",
    "\n",
    "average = total_hot_dogs / total_participants\n",
    "print(f\"{average:.2f}\")\n",
    "\n"
   ]
  }
 ],
 "metadata": {
  "kernelspec": {
   "display_name": "Python 3.10.5 64-bit",
   "language": "python",
   "name": "python3"
  },
  "language_info": {
   "name": "python",
   "version": "3.10.5"
  },
  "orig_nbformat": 4,
  "vscode": {
   "interpreter": {
    "hash": "369f2c481f4da34e4445cda3fffd2e751bd1c4d706f27375911949ba6bb62e1c"
   }
  }
 },
 "nbformat": 4,
 "nbformat_minor": 2
}
